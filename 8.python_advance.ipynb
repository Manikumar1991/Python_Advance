{
 "cells": [
  {
   "cell_type": "code",
   "execution_count": 2,
   "id": "d90f7c89",
   "metadata": {},
   "outputs": [
    {
     "name": "stdout",
     "output_type": "stream",
     "text": [
      "enter first number 50\n",
      "enter second number 5\n",
      "division by 5 error\n"
     ]
    }
   ],
   "source": [
    "#Q1.What are the two latest user-defined exception constraints in Python 3.X?\n",
    "\n",
    "class division_by_5 (Exception):\n",
    "    def __init__ (self,msg):\n",
    "        self.msg = msg\n",
    "try:\n",
    "    a= int(input(\"enter first number \"))\n",
    "    b= int(input(\"enter second number \"))\n",
    "    a/b\n",
    "    if b == 5:\n",
    "        raise division_by_5(\"division by 5 error\")\n",
    "except ValueError as msg:\n",
    "        print(msg)\n",
    "except ZeroDivisionError as msg:\n",
    "        print(msg)\n",
    "except division_by_5 as msg:\n",
    "         print(msg)\n",
    "else:\n",
    "    try :\n",
    "        \n",
    "        result = a/b\n",
    "        print(result)\n",
    "        \n",
    "    except Exception as e :\n",
    "        print(e)"
   ]
  },
  {
   "cell_type": "markdown",
   "id": "79484c75",
   "metadata": {},
   "source": [
    "#Q2.How are class-based exceptions that have been raised matched to handlers?\n",
    "class error_name (Exception):  # we can create a an error msg using class\n",
    "    def __init__ (self,msg):\n",
    "        self.msg = msg\n",
    "        \n",
    "try:\n",
    "    '''\n",
    "    code here\n",
    "   '''\n",
    "    raise error_name(msg) # raise the error msg\n",
    "except error_name as e: # except block handle here\n",
    "    print(\"error\",e)"
   ]
  },
  {
   "cell_type": "code",
   "execution_count": null,
   "id": "c2bf5c05",
   "metadata": {},
   "outputs": [],
   "source": [
    "#Q3. Describe two methods for attaching context information to exception artefacts.\n",
    "'''\n",
    "Syntax Error\n",
    "Zero division Error\n",
    "Valueerror\n",
    "Attribute Error\n",
    "TypeError\n",
    "ImportError\n",
    "ioError\n",
    "'''"
   ]
  },
  {
   "cell_type": "markdown",
   "id": "70e6ffe2",
   "metadata": {},
   "source": [
    "#Q4. Describe two methods for specifying the text of an exception object's error message.\n",
    "\n",
    "try:\n",
    "    '''code\n",
    "    '''\n",
    "except Exception as e:\n",
    "    print(\"error\",e)\n",
    "    \n",
    "############\n",
    "try:\n",
    "    '''code\n",
    "    '''\n",
    "except ValueError as e:\n",
    "    print(e)"
   ]
  },
  {
   "cell_type": "code",
   "execution_count": null,
   "id": "06fd6a24",
   "metadata": {},
   "outputs": [],
   "source": [
    "#Q5.Why do you no longer use string-based exceptions?\n",
    "'''\n",
    "Exceptions can be string based exceptions and class based exception\n",
    "\n",
    "string based exceptions are default in the python code\n",
    "In class based excdptions, we can write customized exception error based on project requirement\n",
    "\n",
    "'''"
   ]
  }
 ],
 "metadata": {
  "kernelspec": {
   "display_name": "Python 3 (ipykernel)",
   "language": "python",
   "name": "python3"
  },
  "language_info": {
   "codemirror_mode": {
    "name": "ipython",
    "version": 3
   },
   "file_extension": ".py",
   "mimetype": "text/x-python",
   "name": "python",
   "nbconvert_exporter": "python",
   "pygments_lexer": "ipython3",
   "version": "3.9.7"
  }
 },
 "nbformat": 4,
 "nbformat_minor": 5
}
