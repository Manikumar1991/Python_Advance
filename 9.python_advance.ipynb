{
 "cells": [
  {
   "cell_type": "code",
   "execution_count": 1,
   "id": "ebe5bf20",
   "metadata": {},
   "outputs": [],
   "source": [
    "#Q1.In Python 3.X, what are the names and functions of string object types?\n",
    "s=\"This is python class\""
   ]
  },
  {
   "cell_type": "code",
   "execution_count": 2,
   "id": "5f338234",
   "metadata": {},
   "outputs": [
    {
     "data": {
      "text/plain": [
       "'hi'"
      ]
     },
     "execution_count": 2,
     "metadata": {},
     "output_type": "execute_result"
    }
   ],
   "source": [
    "#slicing\n",
    "s[1:3]"
   ]
  },
  {
   "cell_type": "code",
   "execution_count": 3,
   "id": "8734cd77",
   "metadata": {},
   "outputs": [
    {
     "data": {
      "text/plain": [
       "'as'"
      ]
     },
     "execution_count": 3,
     "metadata": {},
     "output_type": "execute_result"
    }
   ],
   "source": [
    "s[-3:-1]"
   ]
  },
  {
   "cell_type": "code",
   "execution_count": 7,
   "id": "59f153d0",
   "metadata": {},
   "outputs": [],
   "source": [
    "s1=\"python \"\n",
    "s2=\"datascience\""
   ]
  },
  {
   "cell_type": "code",
   "execution_count": 8,
   "id": "72399b77",
   "metadata": {},
   "outputs": [
    {
     "data": {
      "text/plain": [
       "'python datascience'"
      ]
     },
     "execution_count": 8,
     "metadata": {},
     "output_type": "execute_result"
    }
   ],
   "source": [
    "#concatenate\n",
    "s1 + s2"
   ]
  },
  {
   "cell_type": "code",
   "execution_count": 10,
   "id": "75f738df",
   "metadata": {},
   "outputs": [
    {
     "data": {
      "text/plain": [
       "'this is python class'"
      ]
     },
     "execution_count": 10,
     "metadata": {},
     "output_type": "execute_result"
    }
   ],
   "source": [
    "#lowercase\n",
    "s.lower()"
   ]
  },
  {
   "cell_type": "code",
   "execution_count": 11,
   "id": "445dbfaa",
   "metadata": {},
   "outputs": [
    {
     "data": {
      "text/plain": [
       "'THIS IS PYTHON CLASS'"
      ]
     },
     "execution_count": 11,
     "metadata": {},
     "output_type": "execute_result"
    }
   ],
   "source": [
    "#uppercase\n",
    "s.upper()"
   ]
  },
  {
   "cell_type": "code",
   "execution_count": 13,
   "id": "1bbac2ad",
   "metadata": {},
   "outputs": [
    {
     "data": {
      "text/plain": [
       "['This', 'is', 'python', 'class']"
      ]
     },
     "execution_count": 13,
     "metadata": {},
     "output_type": "execute_result"
    }
   ],
   "source": [
    "#split\n",
    "s.split(\" \")"
   ]
  },
  {
   "cell_type": "code",
   "execution_count": null,
   "id": "1a7b6826",
   "metadata": {},
   "outputs": [],
   "source": [
    "#and many more"
   ]
  },
  {
   "cell_type": "code",
   "execution_count": 14,
   "id": "5fde55ef",
   "metadata": {},
   "outputs": [
    {
     "name": "stdout",
     "output_type": "stream",
     "text": [
      "lower()\n",
      "various string methods\n",
      "upper()\n",
      "VARIOUS STRING METHODS\n",
      "islower()\n",
      "False\n",
      "isupper()\n",
      "False\n",
      "startswith\n",
      "True\n",
      "endswith()\n",
      "False\n",
      "join()\n",
      "various-->strings-->methods\n",
      "split()\n",
      "['Various', 'string', 'methods']\n",
      "ljust()\n",
      "hello**********\n",
      "rjust(*)\n",
      "**********hello\n",
      "center()\n",
      "******welcome*******\n",
      "strip()>\n",
      "investment in learning\n",
      "lstrip()\n",
      "investment in learning       \n",
      "rstrip()\n",
      "  investment in learning\n"
     ]
    }
   ],
   "source": [
    "#Q2. How do the string forms in Python 3.X vary in terms of operations?\n",
    "string = \"Various string methods\"\n",
    "string2 = \"  investment in learning       \"\n",
    "print(\"lower()\")\n",
    "print(string.lower())\n",
    "print(\"upper()\")\n",
    "print(string.upper())\n",
    "print(\"islower()\")\n",
    "print(string.islower())\n",
    "print(\"isupper()\")\n",
    "print(string.isupper())\n",
    "print(\"startswith\")\n",
    "print(string.startswith(\"Var\"))\n",
    "print(\"endswith()\")\n",
    "print(string.endswith(\"el\"))\n",
    "print(\"join()\")\n",
    "print('-->'.join(['various', 'strings', 'methods']))\n",
    "print(\"split()\")\n",
    "print(string.split())\n",
    "print(\"ljust()\")\n",
    "print(\"hello\".ljust(15, '*'))\n",
    "print(\"rjust(*)\")\n",
    "print(\"hello\".rjust(15, '*'))\n",
    "print(\"center()\")\n",
    "print(\"welcome\".center(20, '*'))\n",
    "print(\"strip()>\")\n",
    "print(string2.strip())\n",
    "print(\"lstrip()\")\n",
    "print(string2.lstrip())\n",
    "print(\"rstrip()\")\n",
    "print(string2.rstrip())"
   ]
  },
  {
   "cell_type": "code",
   "execution_count": 17,
   "id": "3dd242b4",
   "metadata": {},
   "outputs": [
    {
     "name": "stdout",
     "output_type": "stream",
     "text": [
      "aap niice apnii bhaassaa aur inputt upkrnn cuneN aur likhnaa aarNbh kreN\n",
      "arigatou. \n"
     ]
    }
   ],
   "source": [
    "#Q3. In 3.X, how do you put non-ASCII Unicode characters in a string?\n",
    "from unidecode import unidecode\n",
    "print(unidecode(\"आप नीचे अपनी भाषा और इनपुट उपकरण चुनें और लिखना आरंभ करें\")) # Hidni\n",
    "print(unidecode(\"ありがとう。\")) # Japanese"
   ]
  },
  {
   "cell_type": "markdown",
   "id": "f9e09b04",
   "metadata": {},
   "source": [
    "#Q4. In Python 3.X, what are the key differences between text-mode and binary-mode files?\n",
    "\n",
    "'''\n",
    "Text-mode files are redable file by human\n",
    "\n",
    "\"Binary\" files are any files where the format isn't made up of readable characters. Binary files can range from image files\n",
    "like JPEGs or GIFs, audio files like MP3s or binary document formats like Word or PDF. In Python, files are opened in\n",
    "text mode by default. To open files in binary mode, when specifying a mode, add 'b' to it.\n",
    "'''\n",
    "\n",
    "f = open('music.mp3', 'rb')\n",
    "file_content = f.read()\n",
    "f.close()"
   ]
  },
  {
   "attachments": {},
   "cell_type": "markdown",
   "id": "cacfc800",
   "metadata": {},
   "source": [
    "#Q5. How can you interpret a Unicode text file containing text encoded in a different encoding than your platform's default?\n",
    "'''\n",
    "utf-8\n",
    "utf-16\n",
    "utf-32\n",
    "'''\n",
    "\n",
    "encoding \"string\" with utf-8 and decoding with utf-8 will give a different result"
   ]
  },
  {
   "cell_type": "code",
   "execution_count": 21,
   "id": "33497ea6",
   "metadata": {},
   "outputs": [
    {
     "data": {
      "text/plain": [
       "b'python'"
      ]
     },
     "execution_count": 21,
     "metadata": {},
     "output_type": "execute_result"
    }
   ],
   "source": [
    "#Q6. What is the best way to make a Unicode text file in a particular encoding format?\n",
    "\"python\".encode('utf-8')\n",
    "\n",
    "'''Python 3 defaults unicode and utf-8\n",
    "All strings are unicode by default and can contain any unicode character\n",
    "'''"
   ]
  },
  {
   "cell_type": "code",
   "execution_count": null,
   "id": "a1dcc3d8",
   "metadata": {},
   "outputs": [],
   "source": [
    "#Q7. What qualifies ASCII text as a form of Unicode text?\n",
    "'''\n",
    "ASCII is used for representing 128 English characters in the form of numbers, with each letter being assigned to a specific \n",
    "number in the range 0 to 127. For e.g., the ASCII code for uppercase A is 65, uppercase B is 66, and so on. Check out the\n",
    "following table for some more examples.\n",
    "\n",
    "Unicode can be defined with different character encoding like UTF-8, UTF-16, UTF-32, etc. Among these UTF-8 is the most popular\n",
    "as it used in over 90% of websites on the World Wide Web as well as on most modern Operating systems like Windows.\n",
    "'''\n"
   ]
  },
  {
   "cell_type": "code",
   "execution_count": null,
   "id": "8965e646",
   "metadata": {},
   "outputs": [],
   "source": [
    "#Q8. How much of an effect does the change in string types in Python 3.X have on your code?\n",
    "'''\n",
    " strings in Python are arrays of bytes representing unicode characters.\n",
    " '''"
   ]
  }
 ],
 "metadata": {
  "kernelspec": {
   "display_name": "Python 3 (ipykernel)",
   "language": "python",
   "name": "python3"
  },
  "language_info": {
   "codemirror_mode": {
    "name": "ipython",
    "version": 3
   },
   "file_extension": ".py",
   "mimetype": "text/x-python",
   "name": "python",
   "nbconvert_exporter": "python",
   "pygments_lexer": "ipython3",
   "version": "3.9.7"
  }
 },
 "nbformat": 4,
 "nbformat_minor": 5
}
